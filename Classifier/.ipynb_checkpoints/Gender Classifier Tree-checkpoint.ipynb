{
 "cells": [
  {
   "cell_type": "code",
   "execution_count": 1,
   "metadata": {},
   "outputs": [],
   "source": [
    "from sklearn import tree\n",
    "import pandas as pd\n",
    "import numpy as np"
   ]
  },
  {
   "cell_type": "code",
   "execution_count": 2,
   "metadata": {},
   "outputs": [],
   "source": [
    "# training data\n",
    "tr_data = pd.read_csv('data/training_data.csv',header = None)\n",
    "# test data\n",
    "ts_data = pd.read_csv('data/test_data.csv',header = None)"
   ]
  },
  {
   "cell_type": "code",
   "execution_count": 3,
   "metadata": {},
   "outputs": [],
   "source": [
    "tr_data.columns = ['bia.di','bii.di','bit.di','che.de','che.di','elb.di','wri.di','kne.di','ank.di','sho.gi','che.gi','wai.gi','nav.gi','hip.gi','thi.gi','bic.gi','for.gi','kne.gi','cal.gi','ank.gi','wri.gi','age','wgt','hgt','sex']\n",
    "ts_data.columns = ['bia.di','bii.di','bit.di','che.de','che.di','elb.di','wri.di','kne.di','ank.di','sho.gi','che.gi','wai.gi','nav.gi','hip.gi','thi.gi','bic.gi','for.gi','kne.gi','cal.gi','ank.gi','wri.gi','age','wgt','hgt','sex']"
   ]
  },
  {
   "cell_type": "code",
   "execution_count": 9,
   "metadata": {},
   "outputs": [],
   "source": [
    "tr_x = pd.DataFrame(tr_data)\n",
    "ts_x = pd.DataFrame(ts_data)\n",
    "cols = [i for i in range(0,24)]\n",
    "\n",
    "# training data slicing\n",
    "tr_y = tr_x[tr_x.columns[24]] # body measurements\n",
    "tr_x = tr_x[tr_x.columns[cols]] # gender\n",
    "\n",
    "# testing data slicing\n",
    "ts_y = ts_x[ts_x.columns[24]] # body measurements\n",
    "ts_x = ts_x[ts_x.columns[cols]] # gender"
   ]
  },
  {
   "cell_type": "code",
   "execution_count": 10,
   "metadata": {},
   "outputs": [],
   "source": [
    "# formatting training data\n",
    "tr_x,tr_y = np.array(tr_x),list(tr_y)\n",
    "\n",
    "# formatting testing data\n",
    "ts_x,ts_y = np.array(ts_x),list(ts_y)\n"
   ]
  },
  {
   "cell_type": "code",
   "execution_count": 11,
   "metadata": {},
   "outputs": [],
   "source": [
    "# converting integer values to male/female\n",
    "for i in range(len(tr_y)):\n",
    "    if tr_y[i] == 1:\n",
    "        tr_y[i] = 'male'\n",
    "    else:\n",
    "        tr_y[i] = 'female'\n",
    "        \n",
    "for i in range(len(ts_y)):\n",
    "    if ts_y[i] == 1:\n",
    "        ts_y[i] = 'male'\n",
    "    else:\n",
    "        ts_y[i] = 'female'"
   ]
  },
  {
   "cell_type": "code",
   "execution_count": 12,
   "metadata": {},
   "outputs": [],
   "source": [
    "# creating classifier\n",
    "clf = tree.DecisionTreeClassifier()\n",
    "\n",
    "# fit data to train the classifier\n",
    "clf = clf.fit(tr_x,tr_y)"
   ]
  },
  {
   "cell_type": "code",
   "execution_count": 41,
   "metadata": {},
   "outputs": [],
   "source": [
    "ts_x_p = np.array(ts_x)"
   ]
  },
  {
   "cell_type": "code",
   "execution_count": 49,
   "metadata": {},
   "outputs": [],
   "source": [
    "pre = clf.predict(ts_x)"
   ]
  },
  {
   "cell_type": "code",
   "execution_count": 64,
   "metadata": {},
   "outputs": [
    {
     "name": "stdout",
     "output_type": "stream",
     "text": [
      "50 50\n"
     ]
    }
   ],
   "source": [
    "m,f = ts_y.count('male'),ts_y.count('female')\n",
    "print(m,f)"
   ]
  },
  {
   "cell_type": "code",
   "execution_count": 65,
   "metadata": {},
   "outputs": [
    {
     "name": "stdout",
     "output_type": "stream",
     "text": [
      "52 48\n"
     ]
    }
   ],
   "source": [
    "m,f = list(pre).count('male'),list(pre).count('female')\n",
    "print(m,f)"
   ]
  },
  {
   "cell_type": "code",
   "execution_count": 68,
   "metadata": {},
   "outputs": [
    {
     "data": {
      "text/plain": [
       "array(['female', 'female', 'female', 'female', 'female', 'female',\n",
       "       'female', 'female', 'female', 'female', 'female', 'female',\n",
       "       'female', 'female', 'female', 'female', 'female', 'female',\n",
       "       'female', 'female', 'female', 'female', 'female', 'female',\n",
       "       'female', 'female', 'female', 'female', 'female', 'female',\n",
       "       'female', 'female', 'female', 'female', 'female', 'female',\n",
       "       'female', 'female', 'female', 'female', 'female', 'female',\n",
       "       'female', 'female', 'female', 'female', 'female', 'female',\n",
       "       'female', 'female', 'male', 'male', 'male', 'male', 'male', 'male',\n",
       "       'male', 'male', 'male', 'male', 'male', 'male', 'male', 'male',\n",
       "       'male', 'male', 'male', 'male', 'male', 'male', 'male', 'male',\n",
       "       'male', 'male', 'male', 'male', 'male', 'male', 'male', 'male',\n",
       "       'male', 'male', 'male', 'male', 'male', 'male', 'male', 'male',\n",
       "       'male', 'male', 'male', 'male', 'male', 'male', 'male', 'male',\n",
       "       'male', 'male', 'male', 'male'], dtype='<U6')"
      ]
     },
     "execution_count": 68,
     "metadata": {},
     "output_type": "execute_result"
    }
   ],
   "source": [
    "np.array(ts_y)"
   ]
  },
  {
   "cell_type": "code",
   "execution_count": 69,
   "metadata": {},
   "outputs": [
    {
     "data": {
      "text/plain": [
       "array(['female', 'female', 'female', 'female', 'female', 'female',\n",
       "       'female', 'male', 'female', 'female', 'female', 'female', 'female',\n",
       "       'female', 'female', 'female', 'female', 'female', 'female',\n",
       "       'female', 'male', 'female', 'female', 'female', 'male', 'female',\n",
       "       'female', 'female', 'female', 'female', 'female', 'female',\n",
       "       'female', 'female', 'female', 'female', 'female', 'female',\n",
       "       'female', 'female', 'female', 'female', 'female', 'female',\n",
       "       'female', 'female', 'female', 'female', 'female', 'female',\n",
       "       'female', 'male', 'male', 'male', 'male', 'male', 'male', 'male',\n",
       "       'male', 'male', 'male', 'male', 'male', 'male', 'male', 'male',\n",
       "       'male', 'male', 'male', 'male', 'male', 'male', 'male', 'male',\n",
       "       'male', 'male', 'male', 'male', 'male', 'male', 'male', 'male',\n",
       "       'male', 'male', 'male', 'male', 'male', 'male', 'male', 'male',\n",
       "       'male', 'male', 'male', 'male', 'male', 'male', 'male', 'male',\n",
       "       'male', 'male'], dtype='<U6')"
      ]
     },
     "execution_count": 69,
     "metadata": {},
     "output_type": "execute_result"
    }
   ],
   "source": [
    "pre"
   ]
  },
  {
   "cell_type": "code",
   "execution_count": null,
   "metadata": {},
   "outputs": [],
   "source": []
  }
 ],
 "metadata": {
  "kernelspec": {
   "display_name": "Python 3",
   "language": "python",
   "name": "python3"
  },
  "language_info": {
   "codemirror_mode": {
    "name": "ipython",
    "version": 3
   },
   "file_extension": ".py",
   "mimetype": "text/x-python",
   "name": "python",
   "nbconvert_exporter": "python",
   "pygments_lexer": "ipython3",
   "version": "3.7.3"
  }
 },
 "nbformat": 4,
 "nbformat_minor": 2
}
